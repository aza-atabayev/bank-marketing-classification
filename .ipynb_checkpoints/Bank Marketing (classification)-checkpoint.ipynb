{
 "cells": [
  {
   "cell_type": "markdown",
   "metadata": {},
   "source": [
    "# Problem Statement\n",
    "## Context\n",
    "Some banking institutions use marketing campaigns to make clients subscribe to their services. One of those services is the term deposit, which restricts withdrawing the deposit until the term ends. This deposit allows a higher flexibility in budget management because it doesn't affect the \"liquidity coverage ratio\" (the amount of money that the bank has to be able to pay instantly). Therefore, predicting and identifying customers who are prone to subscribe to term deposits is beneficial.\n",
    "\n",
    "## Goal\n",
    "The goal is to predict what type of customers will probably subscribe to term deposits by answering the following questions:\n",
    "* What kind of customers usually subscribe to term deposits?\n",
    "* By adjusting which marketing parameters banking insitution can increase chances of subscription?\n",
    "* What type of customers marketing team should focus on for their next marketing campaign?\n",
    "\n",
    "# Data Collection\n",
    "## Data Source\n",
    "I used \"Bank Marketing\" dataset from Kaggle provided by user Henrique Yamahata. [https://www.kaggle.com/henriqueyamahata/bank-marketing?select=bank-additional-full.csv]\n",
    "\n",
    "## Data description"
   ]
  },
  {
   "cell_type": "code",
   "execution_count": null,
   "metadata": {
    "_cell_guid": "b1076dfc-b9ad-4769-8c92-a6c4dae69d19",
    "_uuid": "8f2839f25d086af736a60e9eeb907d3b93b6e0e5"
   },
   "outputs": [],
   "source": [
    "import numpy as np # linear algebra\n",
    "import pandas as pd # data processing, CSV file I/O (e.g. pd.read_csv)\n",
    "\n",
    "import os\n",
    "for dirname, _, filenames in os.walk('/kaggle/input'):\n",
    "    for filename in filenames:\n",
    "        print(os.path.join(dirname, filename))\n",
    "\n",
    "data = pd.read_csv('/kaggle/input/bank-marketing/bank-additional-full.csv', sep = ';')\n",
    "data.info()"
   ]
  },
  {
   "cell_type": "markdown",
   "metadata": {},
   "source": [
    "Attributes can be divided into the following groups:\n",
    "\n",
    "### Client data:\n",
    "* Age (numeric)\n",
    "* Job : type of job (categorical: 'admin.', 'blue-collar', 'entrepreneur', 'housemaid', 'management', 'retired', 'self-employed', 'services', 'student', 'technician', 'unemployed', 'unknown')\n",
    "* Marital : marital status (categorical: 'divorced', 'married', 'single', 'unknown' ; note: 'divorced' means divorced or widowed)\n",
    "* Education (categorical: 'basic.4y', 'basic.6y', 'basic.9y', 'high.school', 'illiterate', 'professional.course', 'university.degree', 'unknown')\n",
    "* Default: has credit in default? (categorical: 'no', 'yes', 'unknown')\n",
    "* Housing: has housing loan? (categorical: 'no', 'yes', 'unknown')\n",
    "* Loan: has personal loan? (categorical: 'no', 'yes', 'unknown')\n",
    "\n",
    "### Current campaign\n",
    "* Contact: last contact communication type (categorical: 'cellular','telephone')\n",
    "* Month: last contact month of year (categorical: 'jan', 'feb', 'mar',…, 'nov', 'dec')\n",
    "* Dayofweek: last contact day of the week (categorical: 'mon','tue','wed','thu','fri')\n",
    "* Duration: last contact duration, in seconds (numeric). Important note: this attribute highly affects the output target (e.g., if duration=0 then y='no').\n",
    "* Campaign: number of contacts performed during this campaign and for this client (numeric, includes last contact)\n",
    "\n",
    "### Previous campaign \n",
    "* Pdays: number of days that passed by after the client was last contacted from a previous campaign (numeric; 999 means client was not previously contacted)\n",
    "* Previous: number of contacts performed before this campaign and for this client (numeric)\n",
    "* Poutcome: outcome of the previous marketing campaign (categorical:'failure','nonexistent','success')\n",
    "\n",
    "### Social and economic context attributes\n",
    "* Emp.var.rate: employment variation rate - quarterly indicator (numeric)\n",
    "* Cons.price.idx: consumer price index - monthly indicator (numeric)\n",
    "* Cons.conf.idx: consumer confidence index - monthly indicator(numeric)\n",
    "* Euribor3m: euribor 3 month rate - daily indicator (numeric)\n",
    "* Nr.employed: number of employees - quarterly indicator (numeric)\n",
    "\n",
    "### Output variable\n",
    "* y - has the client subscribed a term deposit? (binary: 'yes', 'no')"
   ]
  },
  {
   "cell_type": "code",
   "execution_count": null,
   "metadata": {
    "_cell_guid": "79c7e3d0-c299-4dcb-8224-4455121ee9b0",
    "_uuid": "d629ff2d2480ee46fbb7e2d37f6b5fab8052498a",
    "collapsed": true
   },
   "outputs": [],
   "source": []
  }
 ],
 "metadata": {
  "kernelspec": {
   "display_name": "Python 3",
   "language": "python",
   "name": "python3"
  },
  "language_info": {
   "codemirror_mode": {
    "name": "ipython",
    "version": 3
   },
   "file_extension": ".py",
   "mimetype": "text/x-python",
   "name": "python",
   "nbconvert_exporter": "python",
   "pygments_lexer": "ipython3",
   "version": "3.7.6"
  }
 },
 "nbformat": 4,
 "nbformat_minor": 4
}
